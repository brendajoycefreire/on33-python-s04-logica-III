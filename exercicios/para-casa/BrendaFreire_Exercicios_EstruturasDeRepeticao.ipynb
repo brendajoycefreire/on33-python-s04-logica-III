{
 "cells": [
  {
   "cell_type": "code",
   "execution_count": 1,
   "metadata": {},
   "outputs": [
    {
     "name": "stdout",
     "output_type": "stream",
     "text": [
      "Fatorial de: 5\n",
      "5! = 5 . 4 . 3 . 2 . 1 = 120\n"
     ]
    }
   ],
   "source": [
    "def calcular_fatorial(n):\n",
    "    fatorial = 1\n",
    "    contador = n\n",
    "    while contador > 0:\n",
    "        fatorial *= contador\n",
    "        contador -= 1\n",
    "    return fatorial\n",
    "\n",
    "def exibir_fatorial(n):\n",
    "    fatorial = calcular_fatorial(n)\n",
    "    fatores = []\n",
    "    contador = n\n",
    "    while contador > 0:\n",
    "        fatores.append(str(contador))\n",
    "        contador -= 1\n",
    "    fatores_str = \" . \".join(fatores)\n",
    "    print(f\"Fatorial de: {n}\")\n",
    "    print(f\"{n}! = {fatores_str} = {fatorial}\")\n",
    "\n",
    "def main():\n",
    "    try:\n",
    "        numero = int(input(\"Digite um número inteiro: \"))\n",
    "        if numero < 0:\n",
    "            print(\"Por favor, digite um número inteiro não-negativo.\")\n",
    "        else:\n",
    "            exibir_fatorial(numero)\n",
    "    except ValueError:\n",
    "        print(\"Por favor, digite um número inteiro válido.\")\n",
    "\n",
    "if __name__ == \"__main__\":\n",
    "    main()\n"
   ]
  },
  {
   "cell_type": "code",
   "execution_count": 2,
   "metadata": {},
   "outputs": [
    {
     "name": "stdout",
     "output_type": "stream",
     "text": [
      "\n",
      "Vou montar a tabuada de 4 começando em 2 e terminando em 9:\n",
      "4 X 2 = 8\n",
      "4 X 3 = 12\n",
      "4 X 4 = 16\n",
      "4 X 5 = 20\n",
      "4 X 6 = 24\n",
      "4 X 7 = 28\n",
      "4 X 8 = 32\n",
      "4 X 9 = 36\n"
     ]
    }
   ],
   "source": [
    "def gerar_tabuada(numero, inicio, fim):\n",
    "    print(f\"\\nVou montar a tabuada de {numero} começando em {inicio} e terminando em {fim}:\")\n",
    "    for i in range(inicio, fim + 1):\n",
    "        resultado = numero * i\n",
    "        print(f\"{numero} X {i} = {resultado}\")\n",
    "\n",
    "def main():\n",
    "    try:\n",
    "        numero = int(input(\"Montar a tabuada de: \"))\n",
    "        inicio = int(input(\"Começar por: \"))\n",
    "        fim = int(input(\"Terminar em: \"))\n",
    "        \n",
    "        if inicio > fim:\n",
    "            print(\"O valor inicial deve ser menor ou igual ao valor final.\")\n",
    "        else:\n",
    "            gerar_tabuada(numero, inicio, fim)\n",
    "    except ValueError:\n",
    "        print(\"Por favor, digite um número inteiro válido.\")\n",
    "\n",
    "if __name__ == \"__main__\":\n",
    "    main()\n"
   ]
  },
  {
   "cell_type": "code",
   "execution_count": 8,
   "metadata": {},
   "outputs": [
    {
     "name": "stdout",
     "output_type": "stream",
     "text": [
      "Salário no ano 1995: R$ 1015.00\n",
      "Salário no ano 1996: R$ 1045.00\n",
      "Salário no ano 1997: R$ 1105.00\n",
      "Salário no ano 1998: R$ 1225.00\n",
      "Salário no ano 1999: R$ 1345.00\n",
      "Salário no ano 2000: R$ 1465.00\n",
      "Salário no ano 2001: R$ 1585.00\n",
      "Salário no ano 2002: R$ 1705.00\n",
      "Salário no ano 2003: R$ 1825.00\n",
      "Salário no ano 2004: R$ 1945.00\n",
      "Salário no ano 2005: R$ 2065.00\n",
      "Salário no ano 2006: R$ 2185.00\n",
      "Salário no ano 2007: R$ 2305.00\n",
      "Salário no ano 2008: R$ 2425.00\n",
      "Salário no ano 2009: R$ 2545.00\n",
      "Salário no ano 2010: R$ 2665.00\n",
      "Salário no ano 2011: R$ 2785.00\n",
      "Salário no ano 2012: R$ 2905.00\n",
      "Salário no ano 2013: R$ 3025.00\n",
      "Salário no ano 2014: R$ 3145.00\n",
      "Salário no ano 2015: R$ 3265.00\n",
      "Salário no ano 2016: R$ 3385.00\n",
      "Salário no ano 2017: R$ 3505.00\n",
      "Salário no ano 2018: R$ 3625.00\n",
      "Salário no ano 2019: R$ 3745.00\n",
      "Salário no ano 2020: R$ 3865.00\n",
      "Salário no ano 2021: R$ 3985.00\n",
      "Salário no ano 2022: R$ 4105.00\n",
      "Salário no ano 2023: R$ 4225.00\n",
      "Salário no ano 2024: R$ 4345.00\n"
     ]
    }
   ],
   "source": [
    "anoI = int(input(\"Digite o ano de contratação: \"))\n",
    "anoAtual = int(input('Informe o ano atual: '))\n",
    "salario = int(input(\"Digite o salário inicial: \"))\n",
    "percentual = 1.5 / 100\n",
    "novosalario = salario\n",
    "for i in range(anoI, anoAtual + 1):\n",
    "      novosalario += salario * percentual\n",
    "      if i <= 1997:\n",
    "        percentual *= 2\n",
    "      print(f\"Salário no ano {i}: R$ {novosalario:.2f}\")"
   ]
  }
 ],
 "metadata": {
  "kernelspec": {
   "display_name": "Python 3",
   "language": "python",
   "name": "python3"
  },
  "language_info": {
   "codemirror_mode": {
    "name": "ipython",
    "version": 3
   },
   "file_extension": ".py",
   "mimetype": "text/x-python",
   "name": "python",
   "nbconvert_exporter": "python",
   "pygments_lexer": "ipython3",
   "version": "3.12.3"
  }
 },
 "nbformat": 4,
 "nbformat_minor": 2
}
